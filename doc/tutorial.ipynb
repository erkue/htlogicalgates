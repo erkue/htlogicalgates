{
 "cells": [
  {
   "cell_type": "markdown",
   "metadata": {},
   "source": [
    "# Getting started with __htlogicalgates__\n",
    "\n",
    "Welcome to `htlogicalgates`. This notebook shows you how to create hardware-tailored logical circuits for stabilizer codes using our package."
   ]
  },
  {
   "cell_type": "markdown",
   "metadata": {},
   "source": [
    "## Installation\n",
    "\n",
    "The installation can conviniently be done using `pip`."
   ]
  },
  {
   "cell_type": "code",
   "execution_count": 12,
   "metadata": {},
   "outputs": [],
   "source": [
    "#!pip install htlogicalgates"
   ]
  },
  {
   "cell_type": "markdown",
   "metadata": {},
   "source": [
    "Alternatively, you can clone the [repository](https://github.com/erkue/htlogicalgates) and include the files in your project. Finally, we can import the module:"
   ]
  },
  {
   "cell_type": "code",
   "execution_count": 13,
   "metadata": {},
   "outputs": [],
   "source": [
    "import htlogicalgates as htlg"
   ]
  },
  {
   "cell_type": "markdown",
   "metadata": {},
   "source": [
    "## How to tailor logical circuits\n",
    "\n",
    "The main workflow for tailoring a circuit starts with creating three central objects:"
   ]
  },
  {
   "cell_type": "code",
   "execution_count": 5,
   "metadata": {},
   "outputs": [],
   "source": [
    "stab_code = htlg.StabilizerCode(\"4_2_2\")\n",
    "conn = htlg.Connectivity(\"circular\", num_qubits=4)\n",
    "log_gate = htlg.Circuit(\"H 0\", num_qubits=2)"
   ]
  },
  {
   "cell_type": "markdown",
   "metadata": {},
   "source": [
    "After importing the package, we create three objects:\n",
    "\n",
    "- `stab_code = StabilizerCode(\"4_2_2\")`: First, we create a `StabilizerCode` object. It contains the stabilizer code for which we wish to find a logical circuit. As an argument we pass `\"4_2_2\"`, which indicates the $\\llbracket4,2,2\\rrbracket$ color code. We can querry its stabilizers and logical Pauli operators and we can also create an object for our own stabilizer code. More information is provided [below](#stabilizercode).\n",
    "\n",
    "- `conn = Connectivity(\"circular\", num_qubits=4)`: Here, we create a `Connenctivity` object containing information about connections between qubits on the real hardware. Two-qubit gates are only allowed between connected qubits. Here, we use a `\"circular\"` connectivity on `num_qubits=4` qubits. There are multiple available connectivities and we can also create our own connectivity. More information is provided [below](#connectivity).\n",
    "\n",
    "- `log_gate = Circuit(\"H 0\", num_qubits=2)`: Finally, we create a `Circuit` object. We pass the string `\"H 0\"`, indicating the circuit, and the number of qubits its acts on `\"num_qubits=2\"`. This circuit indicates the logical action on the stabilizer code for which we tailor a circuit that implements this action on the logical level. For more information about the `Circuit` class, see [below](#circuit). \n",
    "\n",
    "Note that we created a `Connectivity` for $n=4$ qubits and a logical `Circuit` for $k=2$ qubits since we are using the $\\llbracket n=4,k=2,2\\rrbracket$-code.\n",
    "\n",
    "Now, we can pass these objects to the function `tailor_logical_gate`:"
   ]
  },
  {
   "cell_type": "code",
   "execution_count": 6,
   "metadata": {},
   "outputs": [],
   "source": [
    "circ, status = htlg.tailor_logical_gate(stab_code, conn, log_gate, num_cz_layers=2)"
   ]
  },
  {
   "cell_type": "markdown",
   "metadata": {},
   "source": [
    "The function `tailor_logical_gate` takes the `StabilizerCode`, `Connectivity`, and `Circuit` object we created earlier as arguments. Furthermore, we indicate the number of controlled-Z gate layers we use in tailoring the circuit by using the argument `num_cz_layers`. Generally speaking, more controlled-Z layer make the ansatz more expressive and can lead to circuits with less two-qubit gates in total, while increasing runtime. If you can not find a specific gate, try to increase the number of controlled-Z gate layers."
   ]
  },
  {
   "cell_type": "markdown",
   "metadata": {},
   "source": [
    "The function returns a tuple: The return value `status` indicates the state of the optimization. There exist multiple status messages:\n",
    "\n",
    "- `\"Optimal\"`: The returned circuit is optimal in terms of two-qubit gates.\n",
    "\n",
    "- `\"Bound {n}\"`: The returned circuit is not optimal in terms of two-qubit games but there is no circuit with less than $n$ two-qubit gates.\n",
    "\n",
    "- `\"Infeasible\"`: There is no physical circuit for the given stabilizer code, connectivity, logical circuit, and number of controlled-Z gate layer.\n",
    "\n",
    "- `\"Time out\"`: A physical circuit was not found in the given time limit.\n",
    "\n",
    "If the status message is `\"Optimal\"` or `\"Bound {n}\"`, the variable `circ` contains the physical circuit implementation. Otherwise, it is `None`."
   ]
  },
  {
   "cell_type": "code",
   "execution_count": 11,
   "metadata": {},
   "outputs": [
    {
     "name": "stdout",
     "output_type": "stream",
     "text": [
      "Status: \"Optimal\"\n",
      "\n",
      "Circuit:\n",
      "Z 2\n",
      "C_XYZ 0\n",
      "CZ 0 1\n",
      "CZ 1 2\n",
      "C_XYZ 1\n",
      "CZ 0 1\n",
      "CZ 1 2\n",
      "C_ZYX 0\n",
      "S 1\n",
      "\n"
     ]
    }
   ],
   "source": [
    "print(f'Status: \"{status}\"')\n",
    "print()\n",
    "print(\"Circuit:\")\n",
    "print(circ)"
   ]
  },
  {
   "cell_type": "markdown",
   "metadata": {},
   "source": [
    "### Connectivity <a id='connectivity'></a>"
   ]
  },
  {
   "cell_type": "markdown",
   "metadata": {},
   "source": [
    "### StabilizerCode <a id='stabilizercode'></a>"
   ]
  },
  {
   "cell_type": "markdown",
   "metadata": {},
   "source": [
    "### Circuit <a id='circuit'></a>"
   ]
  },
  {
   "cell_type": "markdown",
   "metadata": {},
   "source": []
  }
 ],
 "metadata": {
  "kernelspec": {
   "display_name": ".venv",
   "language": "python",
   "name": "python3"
  },
  "language_info": {
   "codemirror_mode": {
    "name": "ipython",
    "version": 3
   },
   "file_extension": ".py",
   "mimetype": "text/x-python",
   "name": "python",
   "nbconvert_exporter": "python",
   "pygments_lexer": "ipython3",
   "version": "3.12.8"
  }
 },
 "nbformat": 4,
 "nbformat_minor": 2
}
