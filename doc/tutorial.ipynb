{
 "cells": [
  {
   "cell_type": "markdown",
   "metadata": {},
   "source": [
    "# Getting started with __htlogicalgates__\n",
    "\n",
    "Welcome to `htlogicalgates`. This notebook shows you how to create hardware-tailored logical circuits for stabilizer codes using our package."
   ]
  },
  {
   "cell_type": "markdown",
   "metadata": {},
   "source": [
    "## Installation\n",
    "\n",
    "The installation can conviniently be done using `pip`."
   ]
  },
  {
   "cell_type": "code",
   "execution_count": null,
   "metadata": {},
   "outputs": [],
   "source": [
    "%pip install htlogicalgates"
   ]
  },
  {
   "cell_type": "markdown",
   "metadata": {},
   "source": [
    "Alternatively, you can clone the [repository](https://github.com/erkue/htlogicalgates) and include the files in your project. Finally, we can import the module:"
   ]
  },
  {
   "cell_type": "code",
   "execution_count": 2,
   "metadata": {},
   "outputs": [],
   "source": [
    "import htlogicalgates as htlg"
   ]
  },
  {
   "cell_type": "markdown",
   "metadata": {},
   "source": [
    "## How to tailor logical circuits\n",
    "\n",
    "The main workflow for tailoring a circuit starts with creating three central objects:"
   ]
  },
  {
   "cell_type": "code",
   "execution_count": 3,
   "metadata": {},
   "outputs": [],
   "source": [
    "stab_code = htlg.StabilizerCode(\"4_2_2\")\n",
    "conn = htlg.Connectivity(\"circular\", num_qubits=4)\n",
    "log_gate = htlg.Circuit(\"H 0\", num_qubits=2)"
   ]
  },
  {
   "cell_type": "markdown",
   "metadata": {},
   "source": [
    "After importing the package, we create three objects:\n",
    "\n",
    "- `stab_code = StabilizerCode(\"4_2_2\")`: First, we create a `StabilizerCode` object. It contains the stabilizer code for which we wish to find a logical circuit. As an argument we pass `\"4_2_2\"`, which indicates the $⟦4,2,2⟧$ color code. We can querry its stabilizers and logical Pauli operators and we can also create an object for our own stabilizer code.\n",
    "\n",
    "- `conn = Connectivity(\"circular\", num_qubits=4)`: Here, we create a `Connenctivity` object containing information about connections between qubits on the real hardware. Two-qubit gates are only allowed between connected qubits. Here, we use a `\"circular\"` connectivity on `num_qubits=4` qubits. There are multiple available connectivities and we can also create our own connectivity.\n",
    "\n",
    "- `log_gate = Circuit(\"H 0\", num_qubits=2)`: Finally, we create a `Circuit` object. We pass the string `\"H 0\"`, indicating the circuit, and the number of qubits its acts on `\"num_qubits=2\"`. Note that we count **qubits starting at 0**. This circuit indicates the logical action on the stabilizer code for which we tailor a circuit that implements this action on the logical level.\n",
    "\n",
    "Note that we created a `Connectivity` for $n=4$ qubits and a logical `Circuit` for $k=2$ qubits since we are using the $⟦n=4,k=2,2⟧$-code.\n",
    "\n",
    "Now, we can pass these objects to the function `tailor_logical_gate`:"
   ]
  },
  {
   "cell_type": "code",
   "execution_count": 4,
   "metadata": {},
   "outputs": [],
   "source": [
    "circ, status = htlg.tailor_logical_gate(stab_code, conn, log_gate, num_cz_layers=2)"
   ]
  },
  {
   "cell_type": "markdown",
   "metadata": {},
   "source": [
    "The function `tailor_logical_gate` takes the `StabilizerCode`, `Connectivity`, and `Circuit` object we created earlier as arguments. Furthermore, we indicate the number of controlled-Z gate layers we use in tailoring the circuit by using the argument `num_cz_layers`. Generally speaking, more controlled-Z layer make the ansatz more expressive and can lead to circuits with less two-qubit gates in total, while increasing runtime. If you can not find a specific gate, try to increase the number of controlled-Z gate layers."
   ]
  },
  {
   "cell_type": "markdown",
   "metadata": {},
   "source": [
    "The function returns a tuple: The return value `status` indicates the state of the optimization. There exist multiple status messages:\n",
    "\n",
    "- `\"Optimal\"`: The returned circuit is optimal in terms of two-qubit gates.\n",
    "\n",
    "- `\"Bound {n}\"`: The returned circuit is not optimal in terms of two-qubit games but there is no circuit with less than $n$ two-qubit gates.\n",
    "\n",
    "- `\"Infeasible\"`: There is no physical circuit for the given stabilizer code, connectivity, logical circuit, and number of controlled-Z gate layer.\n",
    "\n",
    "- `\"Time out\"`: A physical circuit was not found in the given time limit.\n",
    "\n",
    "If the status message is `\"Optimal\"` or `\"Bound {n}\"`, the variable `circ` contains the physical circuit implementation. Otherwise, it is `None`."
   ]
  },
  {
   "cell_type": "code",
   "execution_count": 5,
   "metadata": {},
   "outputs": [
    {
     "name": "stdout",
     "output_type": "stream",
     "text": [
      "Status: \"Optimal\"\n",
      "\n",
      "Circuit:\n",
      "Z 2\n",
      "C_XYZ 0\n",
      "CZ 0 1\n",
      "CZ 1 2\n",
      "C_XYZ 1\n",
      "CZ 0 1\n",
      "CZ 1 2\n",
      "C_ZYX 0\n",
      "S 1\n",
      "\n"
     ]
    }
   ],
   "source": [
    "print(f'Status: \"{status}\"')\n",
    "print()\n",
    "print(\"Circuit:\")\n",
    "print(circ)"
   ]
  },
  {
   "cell_type": "markdown",
   "metadata": {},
   "source": [
    "## More ways to create a `StabilizerCode`\n",
    "\n",
    "There exists a number of stabilizer codes that are already included in the package. A list of these can be accessed as follows:"
   ]
  },
  {
   "cell_type": "code",
   "execution_count": 6,
   "metadata": {},
   "outputs": [
    {
     "data": {
      "text/plain": [
       "{'8_3_2': '[[8,3,2]] hypercube and color code.',\n",
       " '4_2_2': '[[4,2,2]] iceberg and color code.',\n",
       " '12_2_3': '[[12,2,3]] twisted toric-24 code.',\n",
       " 'trivial': 'The trivial [[n,n,1]] code.'}"
      ]
     },
     "execution_count": 6,
     "metadata": {},
     "output_type": "execute_result"
    }
   ],
   "source": [
    "htlg.available_stabilizercodes()"
   ]
  },
  {
   "cell_type": "markdown",
   "metadata": {},
   "source": [
    "The keys of this dictionary, and sometimes an integer `n`, can be passed to the `StabilizerCode` constructor."
   ]
  },
  {
   "cell_type": "markdown",
   "metadata": {},
   "source": [
    "To create our own stabilizer codes, we can can create a list of logical Pauli-X, Pauli-Z and stabilizer operators. Hereby, Pauli operators are represented as strings and the correctness of the stabilizer code is checked when creating the stabilizer code object."
   ]
  },
  {
   "cell_type": "code",
   "execution_count": 7,
   "metadata": {},
   "outputs": [],
   "source": [
    "x_logicals = [\"X0 X1 X2 X3 X4\"]\n",
    "z_logicals = [\"Z0 Z1 Z2 Z3 Z4\"]\n",
    "stabilizers = [\"X0 Z1 Z2 X3\",\n",
    "               \"X1 Z2 Z3 X4\",\n",
    "               \"X0 X2 Z3 Z4\",\n",
    "               \"Z0 X1 X3 Z4\"]\n",
    "\n",
    "stab_code = htlg.StabilizerCode(x_logicals, z_logicals, stabilizers)"
   ]
  },
  {
   "cell_type": "markdown",
   "metadata": {},
   "source": [
    "## More ways to create a `Connectivity`"
   ]
  },
  {
   "cell_type": "markdown",
   "metadata": {},
   "source": [
    "Similarly to the `StabilizerCode` class, some baisc connectivities are included in the packaged. This can be queried as follows:"
   ]
  },
  {
   "cell_type": "code",
   "execution_count": 8,
   "metadata": {},
   "outputs": [
    {
     "data": {
      "text/plain": [
       "{'8_3_2_cube': 'Cube connectivity for the [[8,3,2]]-color code.',\n",
       " '12_2_3_checker': 'Checkerboard connectivity for the [[12,2,3]] twisted toric-24 code.',\n",
       " 'linear': 'Connections exist between qubits $i$ and $i+1$.',\n",
       " 'circular': 'Connections exist between qubits $i$ and $(i+1)%n$.',\n",
       " 'all': 'Connections exist between all qubits.'}"
      ]
     },
     "execution_count": 8,
     "metadata": {},
     "output_type": "execute_result"
    }
   ],
   "source": [
    "htlg.available_connectivities()"
   ]
  },
  {
   "cell_type": "markdown",
   "metadata": {},
   "source": [
    "The keys of this dictionary, and sometimes an integer `n`, can be passed to the `Connectivity` constructor."
   ]
  },
  {
   "cell_type": "markdown",
   "metadata": {},
   "source": [
    "Alternativly, we can create a `Connectivity` object by passing the an $n\\times n$ adjacency matrix to the constructor."
   ]
  },
  {
   "cell_type": "code",
   "execution_count": 9,
   "metadata": {},
   "outputs": [],
   "source": [
    "import numpy as np\n",
    "\n",
    "arr = np.array([[0, 1, 0, 0], [1, 0, 1, 0], [0, 1, 0, 1], [0, 0, 1, 0]])\n",
    "con = htlg.Connectivity(arr)"
   ]
  },
  {
   "cell_type": "markdown",
   "metadata": {},
   "source": [
    "## More ways to create a `Circuit`"
   ]
  },
  {
   "cell_type": "markdown",
   "metadata": {},
   "source": [
    "The interface of the circuit class is heavily inspired by other popular packages such as [qiskit](https://github.com/Qiskit/qiskit) or [stim](https://github.com/quantumlib/stim). A `Circuit` object can be created from a string or be build step-by-step. To create a circuit from a string, the string can be passed to the constructor:"
   ]
  },
  {
   "cell_type": "code",
   "execution_count": 10,
   "metadata": {},
   "outputs": [],
   "source": [
    "string = \"\"\"h 0\n",
    "cz 0 1\n",
    "h 1\n",
    "c_xyz 0\n",
    "\"\"\"\n",
    "circ = htlg.Circuit(string)"
   ]
  },
  {
   "cell_type": "markdown",
   "metadata": {},
   "source": [
    "Note that this string is not case-sensitive. The same circuit can also be build step-by-step:"
   ]
  },
  {
   "cell_type": "code",
   "execution_count": 11,
   "metadata": {},
   "outputs": [],
   "source": [
    "circ = htlg.Circuit(2)\n",
    "circ.h(0)\n",
    "circ.cz(0, 1)\n",
    "circ.h(1)\n",
    "circ.c_xyz(0)"
   ]
  },
  {
   "cell_type": "markdown",
   "metadata": {},
   "source": [
    "## Available gates"
   ]
  },
  {
   "cell_type": "markdown",
   "metadata": {},
   "source": [
    "Next, we provide a list of all gates and their transformation of stabilizer generators.\n",
    "\n",
    "- `'id'` gate: `X -> X, Z -> Z`\n",
    "\n",
    "- `'x'` gate: `X -> X, Z -> -Z`\n",
    "\n",
    "- `'y'` gate: `X -> -X, Z -> -Z`\n",
    "\n",
    "- `'z'` gate: `X -> -X, Z -> Z`\n",
    "\n",
    "- `'h'` gate: `X -> Z, Z -> X`\n",
    "\n",
    "- `'s'` gate: `X -> Y, Z -> Z`\n",
    "\n",
    "- `'sdg'` gate: `X -> -Y, Z -> Z`\n",
    "\n",
    "- `'sxdg'` gate: `X -> X, Z -> Y`\n",
    "\n",
    "- `'c_xyz'` gate: `X -> Y, Z -> X`\n",
    "\n",
    "- `'c_zyx'` gate: `X -> Z, Z -> Y`\n",
    "\n",
    "- `'swap'` gate: `XI -> IX, ZI -> IZ, IX -> XI, IZ -> ZI`\n",
    "\n",
    "- `'cx'` gate: `XI -> XZ, ZI -> ZI, IX -> IX, IZ -> XZ`\n",
    "\n",
    "- `'cz'` gate: `XI -> XZ, ZI -> ZI, IX -> ZX, IZ -> IZ`"
   ]
  }
 ],
 "metadata": {
  "kernelspec": {
   "display_name": ".venv",
   "language": "python",
   "name": "python3"
  },
  "language_info": {
   "codemirror_mode": {
    "name": "ipython",
    "version": 3
   },
   "file_extension": ".py",
   "mimetype": "text/x-python",
   "name": "python",
   "nbconvert_exporter": "python",
   "pygments_lexer": "ipython3",
   "version": "3.12.8"
  }
 },
 "nbformat": 4,
 "nbformat_minor": 2
}
