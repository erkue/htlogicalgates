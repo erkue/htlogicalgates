{
 "cells": [
  {
   "cell_type": "markdown",
   "metadata": {},
   "source": [
    "# Getting started with __htlogicalgates__\n",
    "\n",
    "Welcome to `htlogicalgates`. This notebook shows you how to create hardware-tailored logical circuits for stabilizer codes using our package."
   ]
  },
  {
   "cell_type": "markdown",
   "metadata": {},
   "source": [
    "## Installation\n",
    "\n",
    "This package can be installed conveniently through `pip`."
   ]
  },
  {
   "cell_type": "code",
   "execution_count": null,
   "metadata": {},
   "outputs": [],
   "source": [
    "%pip install htlogicalgates"
   ]
  },
  {
   "cell_type": "markdown",
   "metadata": {},
   "source": [
    "Alternatively, you can clone the [repository](https://github.com/erkue/htlogicalgates) and include the source files in your project. \n",
    "\n",
    "Now we can import the module:"
   ]
  },
  {
   "cell_type": "code",
   "execution_count": 1,
   "metadata": {},
   "outputs": [],
   "source": [
    "import htlogicalgates as htlg"
   ]
  },
  {
   "cell_type": "markdown",
   "metadata": {},
   "source": [
    "## How to tailor logical circuits\n",
    "\n",
    "The main workflow for tailoring a circuit starts with creating three central objects:"
   ]
  },
  {
   "cell_type": "code",
   "execution_count": 2,
   "metadata": {},
   "outputs": [],
   "source": [
    "stab_code = htlg.StabilizerCode(\"4_2_2\")\n",
    "connectivity = htlg.Connectivity(\"circular\", num_qubits=4)\n",
    "logical_gate = htlg.Circuit(2)\n",
    "logical_gate.h(0)"
   ]
  },
  {
   "cell_type": "markdown",
   "metadata": {},
   "source": [
    "After importing the package, we create three objects:\n",
    "\n",
    "- First, we create a `StabilizerCode` for which we wish to find a logical circuit. In this example, we pass `\"4_2_2\"`, which selects the $⟦4,2,2⟧$ color code. Some common codes are predefined (see below), but custom codes can also be specified through a set of stabilizer generators. \n",
    "\n",
    "- Next, we create a `Connectivity` that stores connections between qubits on the target hardware. Two-qubit gates will only be allowed between connected qubits. For this example, we use a `\"circular\"` connectivity on `num_qubits=4` qubits. Other predefined connectivities can be queried via `htlg.available_connectivities()`. Moreover, a custom connectivity can be created from an adjacency matrix. \n",
    "\n",
    "- Finally, we initialize a `Circuit` with the number of logical qubits and add a Hadamard gate on the first qubit (note that we count **qubits starting at 0**). In the following we will tailor a circuit that implements the action of this circuit on the logical level of the stabilizer code.\n",
    "\n",
    "Note that we created a `Connectivity` for $n=4$ qubits and a logical `Circuit` for $k=2$ qubits since we are using the $⟦n=4,k=2,2⟧$-code.\n",
    "\n",
    "Now we can pass these objects to the function `tailor_logical_gate`:"
   ]
  },
  {
   "cell_type": "code",
   "execution_count": 3,
   "metadata": {},
   "outputs": [],
   "source": [
    "circ, status = htlg.tailor_logical_gate(stab_code, connectivity, logical_gate, num_cz_layers=2)"
   ]
  },
  {
   "cell_type": "markdown",
   "metadata": {},
   "source": [
    "The parameter `num_cz_layers` determines the number of CZ gate layers in the ansatz circuit. Generally speaking, more CZ layers make the ansatz more expressive and can lead to circuits with less two-qubit gates in total, while increasing runtime. If you can not find a specific gate, try to increase the number of CZ gate layers."
   ]
  },
  {
   "cell_type": "markdown",
   "metadata": {},
   "source": [
    "The return value `status` indicates the state of the optimization:\n",
    "\n",
    "- `\"Optimal\"`: The returned circuit is optimal in terms of two-qubit gates.\n",
    "\n",
    "- `\"Bound {n}\"`: The returned circuit is not optimal in terms of two-qubit games but there is no circuit with less than $n$ two-qubit gates.\n",
    "\n",
    "- `\"Infeasible\"`: There is no physical circuit for the given stabilizer code, connectivity, logical circuit, and number of CZ gate layer.\n",
    "\n",
    "- `\"Time out\"`: A physical circuit was not found in the given time limit.\n",
    "\n",
    "If the status message is `\"Optimal\"` or `\"Bound {n}\"`, then `circ` contains the physical circuit implementation. Otherwise, it is `None`."
   ]
  },
  {
   "cell_type": "code",
   "execution_count": 4,
   "metadata": {},
   "outputs": [
    {
     "name": "stdout",
     "output_type": "stream",
     "text": [
      "Status: \"Optimal\"\n",
      "\n",
      "Circuit:\n",
      "Z 1\n",
      "C_XYZ 3\n",
      "CZ 1 2\n",
      "CZ 2 3\n",
      "C_XYZ 2\n",
      "CZ 1 2\n",
      "CZ 2 3\n",
      "S 2\n",
      "C_ZYX 3\n",
      "\n"
     ]
    }
   ],
   "source": [
    "print(f'Status: \"{status}\"\\n')\n",
    "print(f'Circuit:\\n{circ}')"
   ]
  },
  {
   "cell_type": "markdown",
   "metadata": {},
   "source": [
    "## More ways to create a `StabilizerCode`\n",
    "\n",
    "There exists a number of stabilizer codes that are already included in the package. A list of these can be accessed as follows:"
   ]
  },
  {
   "cell_type": "code",
   "execution_count": 5,
   "metadata": {},
   "outputs": [
    {
     "data": {
      "text/plain": [
       "{'8_3_2': '[[8,3,2]] hypercube and color code.',\n",
       " '4_2_2': '[[4,2,2]] iceberg and color code.',\n",
       " '12_2_3': '[[12,2,3]] twisted toric-24 code.',\n",
       " 'trivial': 'The trivial [[n,n,1]] code.'}"
      ]
     },
     "execution_count": 5,
     "metadata": {},
     "output_type": "execute_result"
    }
   ],
   "source": [
    "htlg.available_stabilizercodes()"
   ]
  },
  {
   "cell_type": "markdown",
   "metadata": {},
   "source": [
    "The keys of this dictionary, and sometimes an integer `n`, can be passed to the `StabilizerCode` constructor."
   ]
  },
  {
   "cell_type": "markdown",
   "metadata": {},
   "source": [
    "To create our own stabilizer codes, we can can create a list of logical Pauli-X, Pauli-Z, and stabilizer operators. Hereby, Pauli operators are represented as strings and the correctness of the stabilizer code is verified when creating the stabilizer code object."
   ]
  },
  {
   "cell_type": "code",
   "execution_count": 6,
   "metadata": {},
   "outputs": [],
   "source": [
    "x_logicals = [\"X0 X1 X2 X3 X4\"]\n",
    "z_logicals = [\"Z0 Z1 Z2 Z3 Z4\"]\n",
    "stabilizers = [\"X0 Z1 Z2 X3\",\n",
    "               \"X1 Z2 Z3 X4\",\n",
    "               \"X0 X2 Z3 Z4\",\n",
    "               \"Z0 X1 X3 Z4\"]\n",
    "\n",
    "stab_code = htlg.StabilizerCode(x_logicals, z_logicals, stabilizers)"
   ]
  },
  {
   "cell_type": "markdown",
   "metadata": {},
   "source": [
    "## More ways to create a `Connectivity`"
   ]
  },
  {
   "cell_type": "markdown",
   "metadata": {},
   "source": [
    "Some basic connectivities are included in the package. They can be queried as follows:"
   ]
  },
  {
   "cell_type": "code",
   "execution_count": 7,
   "metadata": {},
   "outputs": [
    {
     "data": {
      "text/plain": [
       "{'8_3_2_cube': 'Cube connectivity for the [[8,3,2]]-color code.',\n",
       " '12_2_3_checker': 'Checkerboard connectivity for the [[12,2,3]] twisted toric-24 code.',\n",
       " 'linear': 'Connections exist between qubits $i$ and $i+1$.',\n",
       " 'circular': 'Connections exist between qubits $i$ and $(i+1)%n$.',\n",
       " 'all': 'Connections exist between all qubits.'}"
      ]
     },
     "execution_count": 7,
     "metadata": {},
     "output_type": "execute_result"
    }
   ],
   "source": [
    "htlg.available_connectivities()"
   ]
  },
  {
   "cell_type": "markdown",
   "metadata": {},
   "source": [
    "The keys of this dictionary, and sometimes an integer `n`, can be passed to the `Connectivity` constructor."
   ]
  },
  {
   "cell_type": "markdown",
   "metadata": {},
   "source": [
    "Alternatively, we can create a `Connectivity` by passing an $n\\times n$ adjacency matrix to the constructor."
   ]
  },
  {
   "cell_type": "code",
   "execution_count": 10,
   "metadata": {},
   "outputs": [],
   "source": [
    "import numpy as np\n",
    "\n",
    "adjacency_matrix = np.array([\n",
    "    [0, 1, 0, 0],\n",
    "    [1, 0, 1, 0],\n",
    "    [0, 1, 0, 1],\n",
    "    [0, 0, 1, 0]\n",
    "])\n",
    "connectivity = htlg.Connectivity(adjacency_matrix)"
   ]
  },
  {
   "cell_type": "markdown",
   "metadata": {},
   "source": [
    "## More ways to create a `Circuit`"
   ]
  },
  {
   "cell_type": "markdown",
   "metadata": {},
   "source": [
    "The interface of the circuit class is inspired by other popular packages such as [qiskit](https://github.com/Qiskit/qiskit) or [stim](https://github.com/quantumlib/stim). A `Circuit` object can be created from a string or be build step-by-step. To create a circuit from a string, the string can be passed to the constructor (note that this string is not case-sensitive):"
   ]
  },
  {
   "cell_type": "code",
   "execution_count": 11,
   "metadata": {},
   "outputs": [],
   "source": [
    "string = \"\"\"\n",
    "h 0\n",
    "cz 0 1\n",
    "h 1\n",
    "c_xyz 0\n",
    "\"\"\"\n",
    "circ = htlg.Circuit(string)"
   ]
  },
  {
   "cell_type": "markdown",
   "metadata": {},
   "source": [
    "The same circuit can also be build step-by-step:"
   ]
  },
  {
   "cell_type": "code",
   "execution_count": 12,
   "metadata": {},
   "outputs": [],
   "source": [
    "circ = htlg.Circuit(2)\n",
    "circ.h(0)\n",
    "circ.cz(0, 1)\n",
    "circ.h(1)\n",
    "circ.c_xyz(0)"
   ]
  },
  {
   "cell_type": "markdown",
   "metadata": {},
   "source": [
    "## Available gates"
   ]
  },
  {
   "cell_type": "markdown",
   "metadata": {},
   "source": [
    "In the following, we provide a list of all gates and their transformations of stabilizer generators.\n",
    "\n",
    "- `'id'` gate: `X → X, Z → Z`\n",
    "\n",
    "- `'x'` gate: `X → X, Z → −Z`\n",
    "\n",
    "- `'y'` gate: `X → −X, Z → −Z`\n",
    "\n",
    "- `'z'` gate: `X → −X, Z → Z`\n",
    "\n",
    "- `'h'` gate: `X → Z, Z → X`\n",
    "\n",
    "- `'s'` gate: `X → Y, Z → Z`\n",
    "\n",
    "- `'sdg'` gate: `X → −Y, Z → Z`\n",
    "\n",
    "- `'sxdg'` gate: `X → X, Z → Y`\n",
    "\n",
    "- `'c_xyz'` gate: `X → Y, Z → X`\n",
    "\n",
    "- `'c_zyx'` gate: `X → Z, Z → Y`\n",
    "\n",
    "- `'swap'` gate: `XI → IX, ZI → IZ, IX → XI, IZ → ZI`\n",
    "\n",
    "- `'cx'` gate: `XI → XZ, ZI → ZI, IX → IX, IZ → XZ`\n",
    "\n",
    "- `'cz'` gate: `XI → XZ, ZI → ZI, IX → ZX, IZ → IZ`"
   ]
  }
 ],
 "metadata": {
  "kernelspec": {
   "display_name": "Python 3",
   "language": "python",
   "name": "python3"
  },
  "language_info": {
   "codemirror_mode": {
    "name": "ipython",
    "version": 3
   },
   "file_extension": ".py",
   "mimetype": "text/x-python",
   "name": "python",
   "nbconvert_exporter": "python",
   "pygments_lexer": "ipython3",
   "version": "3.10.5"
  }
 },
 "nbformat": 4,
 "nbformat_minor": 2
}
