{
 "cells": [
  {
   "cell_type": "markdown",
   "metadata": {},
   "source": [
    "# Tailor multiple gates using the integer representation\n",
    "\n",
    "In  [tutorial.ipynb](./tutorial.ipynb) we learned how to tailor a logical circuit for a stabilizer code. We did this by passing `Connectivity`, `StabilizerCode`, and `Circuit` objects to the `tailor_logical_gate` function. If we want to create circuit implementations for many different logical gates, we may call this function multiple times. If we are looking for a few specific gate implementations, this works fine. On the other hand, one might want to create a large amount of logical gates, say 720 in total; the number of two-qubit Clifford gates modulo Paulis. For this, we can use the function `tailor_multiple_logical_gates`. This function avoids the additional overhead of creating a distinct _Gurobi_ model for all gates, and, more importantly, we can pass a list of integers identifying specific Clifford gates."
   ]
  },
  {
   "cell_type": "code",
   "execution_count": 1,
   "metadata": {},
   "outputs": [],
   "source": [
    "import htlogicalgates as htlg"
   ]
  },
  {
   "cell_type": "markdown",
   "metadata": {},
   "source": [
    "The workflow is similiar to that of `tailor_logical_gate`. The only difference is that, instead of a `Circuit` object, we pass a list of integers."
   ]
  },
  {
   "cell_type": "code",
   "execution_count": 2,
   "metadata": {},
   "outputs": [],
   "source": [
    "connectivity = htlg.Connectivity(\"circular\", num_qubits=4)\n",
    "stab_code = htlg.StabilizerCode(\"4_2_2\")\n",
    "logical_gates = [0,1,121]\n",
    "results = htlg.tailor_multiple_logical_gates(stab_code, connectivity, logical_gates, 2)"
   ]
  },
  {
   "cell_type": "markdown",
   "metadata": {},
   "source": [
    "## Clifford gates represented by integers\n",
    "\n",
    "For a given number of qubits, every Clifford is identified by an integer. This identification is unique up to Pauli operators and is based on the work _J. Math. Phys. 55, 122202 (2014)_ by Koenig _et. al._ (also available under [arXiv:1406.2170](https://arxiv.org/abs/1406.2170)).\n",
    "\n",
    "We can work with this representation by using the `Clifford` class. For example, we can turn a `Circuit` object into its corresponding `Clifford` object. Note that all circuits in this package are Clifford circuits."
   ]
  },
  {
   "cell_type": "code",
   "execution_count": 3,
   "metadata": {},
   "outputs": [
    {
     "name": "stdout",
     "output_type": "stream",
     "text": [
      "Clifford integer of cliff0: '0'\n",
      "Clifford integer of cliff1: '1'\n",
      "Clifford integer of cliff2: '121'\n"
     ]
    }
   ],
   "source": [
    "circ0 = htlg.Circuit(\"I 1\", 2)\n",
    "circ1 = htlg.Circuit(\"H 0\", 2)\n",
    "circ2 = htlg.Circuit(\"H 0\\nH 1\", 2)\n",
    "cliff0 = circ0.to_clifford()\n",
    "cliff1 = circ1.to_clifford()\n",
    "cliff2 = circ2.to_clifford()\n",
    "print(f\"Clifford integer of cliff0: '{cliff0.clifford_int}'\")\n",
    "print(f\"Clifford integer of cliff1: '{cliff1.clifford_int}'\")\n",
    "print(f\"Clifford integer of cliff2: '{cliff2.clifford_int}'\")"
   ]
  },
  {
   "cell_type": "markdown",
   "metadata": {},
   "source": [
    "Here, we used the property `clifford_int` to obtain the integer of the Clifford operator modulo Paulis. For completeness, the Pauli part is also identified by an integer."
   ]
  },
  {
   "cell_type": "code",
   "execution_count": 4,
   "metadata": {},
   "outputs": [
    {
     "name": "stdout",
     "output_type": "stream",
     "text": [
      "Clifford integer of cliff3: '121'\n",
      "Pauli integer of cliff3: '4'\n",
      "Pauli integer of cliff2: '0'\n"
     ]
    }
   ],
   "source": [
    "cliff3 = htlg.Circuit(\"H 0\\nH 1\\nX 1\").to_clifford()\n",
    "print(f\"Clifford integer of cliff3: '{cliff3.clifford_int}'\")\n",
    "print(f\"Pauli integer of cliff3: '{cliff3.pauli_int}'\")\n",
    "print(f\"Pauli integer of cliff2: '{cliff2.pauli_int}'\")"
   ]
  },
  {
   "cell_type": "markdown",
   "metadata": {},
   "source": [
    "As shown above, the Clifford integers of both Clifford gates are the same but their Pauli integers differ."
   ]
  },
  {
   "cell_type": "markdown",
   "metadata": {},
   "source": [
    "## Using the function `tailor_multiple_gates`"
   ]
  },
  {
   "cell_type": "markdown",
   "metadata": {},
   "source": [
    "As previously shown, we can use the function `tailor_multiple_gates` in the following manner."
   ]
  },
  {
   "cell_type": "code",
   "execution_count": 5,
   "metadata": {},
   "outputs": [],
   "source": [
    "connectivity = htlg.Connectivity(\"circular\", num_qubits=4)\n",
    "stab_code = htlg.StabilizerCode(\"4_2_2\")\n",
    "logical_gates = [0, 1, 121]\n",
    "results = htlg.tailor_multiple_logical_gates(stab_code, connectivity, logical_gates, 2)"
   ]
  },
  {
   "cell_type": "markdown",
   "metadata": {},
   "source": [
    "The function returns a dictionary containing all tailored gates and meta information."
   ]
  },
  {
   "cell_type": "code",
   "execution_count": 6,
   "metadata": {},
   "outputs": [
    {
     "name": "stdout",
     "output_type": "stream",
     "text": [
      "['Connectivity', 'Code', 'Number CZ layers', 'Time limit', 'Started', 'Ended']\n",
      "[0, 1, 121]\n"
     ]
    }
   ],
   "source": [
    "print(list(results[\"Meta\"].keys()))\n",
    "print(list(results[\"Gates\"].keys()))"
   ]
  },
  {
   "cell_type": "markdown",
   "metadata": {},
   "source": [
    "For example, we can query the used connectivity and stabilizer code."
   ]
  },
  {
   "cell_type": "code",
   "execution_count": 7,
   "metadata": {},
   "outputs": [
    {
     "name": "stdout",
     "output_type": "stream",
     "text": [
      "Connectivity matrix:\n",
      " [[0 1 0 1]\n",
      " [1 0 1 0]\n",
      " [0 1 0 1]\n",
      " [1 0 1 0]]\n",
      "\n",
      "Code parameters:\n",
      "[[n,k,d]] = (4, 2, 2)\n"
     ]
    }
   ],
   "source": [
    "connectivity = results[\"Meta\"][\"Connectivity\"]\n",
    "stab_code = results[\"Meta\"][\"Code\"]\n",
    "\n",
    "print(\"Connectivity matrix:\\n\", connectivity.matrix)\n",
    "print()\n",
    "print(\"Code parameters:\\n[[n,k,d]] =\",stab_code.nkd)"
   ]
  },
  {
   "cell_type": "markdown",
   "metadata": {},
   "source": [
    "On the other hand, we can query the circuits from the results dictionary by identifying different gates by the integer that represents the logical Clifford action."
   ]
  },
  {
   "cell_type": "code",
   "execution_count": 8,
   "metadata": {},
   "outputs": [
    {
     "name": "stdout",
     "output_type": "stream",
     "text": [
      "Circuit : 'Z 0\\nH 0\\nZ 1\\nX 1\\nC_XYZ 1\\nZ 2\\nX 2\\nC_XYZ 2\\nH 3\\nCZ 0 3\\nCZ 1 2\\nZ 0\\nS 0\\nC_XYZ 1\\nC_XYZ 2\\nZ 3\\nS 3\\nCZ 1 2\\nH 1\\nH 2\\n'\n",
      "Status : 'Optimal'\n",
      "Runtime : '1.937000036239624'\n"
     ]
    }
   ],
   "source": [
    "for key, val in results[\"Gates\"][121].items():\n",
    "    print(key, \":\", repr(val.__str__()))"
   ]
  },
  {
   "cell_type": "markdown",
   "metadata": {},
   "source": [
    "The runtime is given in seconds and the status message is the same as for the function `tailor_logical_gate`."
   ]
  },
  {
   "cell_type": "markdown",
   "metadata": {},
   "source": [
    "We can save the dictionary to a .json-file automatically by specifying the `output_file` argument of the function `tailor_multiple_logical_gates`. Alternatively, we can use the functions `save_results_dictionary` to manually save the results to a .json-file."
   ]
  },
  {
   "cell_type": "code",
   "execution_count": 11,
   "metadata": {},
   "outputs": [],
   "source": [
    "filepath = \"tutorial_results.json\"\n",
    "htlg.save_results_dictionary(results, filepath)"
   ]
  },
  {
   "cell_type": "markdown",
   "metadata": {},
   "source": [
    "We can load the results dictionary by using the function `load_results_dictionary`."
   ]
  },
  {
   "cell_type": "code",
   "execution_count": 12,
   "metadata": {},
   "outputs": [],
   "source": [
    "results_loaded = htlg.load_results_dictionary(filepath) # = results"
   ]
  }
 ],
 "metadata": {
  "kernelspec": {
   "display_name": ".venv",
   "language": "python",
   "name": "python3"
  },
  "language_info": {
   "codemirror_mode": {
    "name": "ipython",
    "version": 3
   },
   "file_extension": ".py",
   "mimetype": "text/x-python",
   "name": "python",
   "nbconvert_exporter": "python",
   "pygments_lexer": "ipython3",
   "version": "3.12.8"
  }
 },
 "nbformat": 4,
 "nbformat_minor": 2
}
