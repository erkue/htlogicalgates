{
 "cells": [
  {
   "cell_type": "markdown",
   "metadata": {},
   "source": [
    "## Looping through the Clifford group\n",
    "\n",
    "For erroneous devices and low logical qubit numbers it can be beneficial to implement _all_ (or a large number of) Clifford circuits directly instead of composing them from a generating set (like H+S+CX) in order to optimize the circuit depth. \n",
    "\n",
    "To facilitate this use case, our `Clifford` class implements conversions between symplectic Clifford matrices and special ids assigned uniquely to all Clifford elements (up to Pauli operators) for a given number of qubits. This assignment follows the work of Koenig _et. al._ (_J. Math. Phys. 55, 122202_, [arXiv:1406.2170](https://arxiv.org/abs/1406.2170)).\n",
    "\n"
   ]
  },
  {
   "cell_type": "markdown",
   "metadata": {},
   "source": [
    "For a given qubit number $n$, the integers $0,\\dots,|\\mathcal{\\tilde{C}}_n|-1$ enumerate all elements of the $n$-qubit Clifford group up to Pauli operators $\\mathcal{\\tilde{C}}_n$. The size of this group can be accessed via `Clifford.group_size_mod_pauli(n)`. "
   ]
  },
  {
   "cell_type": "markdown",
   "metadata": {},
   "source": [
    "Given a Clifford id, we can obtain a symplectic matrix by using the Clifford constructor:"
   ]
  },
  {
   "cell_type": "code",
   "execution_count": 1,
   "metadata": {},
   "outputs": [
    {
     "data": {
      "text/plain": [
       "array([[1, 1, 1, 0, 1, 1],\n",
       "       [0, 0, 1, 1, 1, 1],\n",
       "       [0, 1, 0, 1, 1, 1],\n",
       "       [1, 1, 1, 1, 1, 1],\n",
       "       [0, 1, 1, 1, 0, 1],\n",
       "       [0, 1, 1, 1, 1, 0]])"
      ]
     },
     "execution_count": 1,
     "metadata": {},
     "output_type": "execute_result"
    }
   ],
   "source": [
    "import htlogicalgates as htlg\n",
    "\n",
    "htlg.Clifford(123, num_qubits=3).symplectic_matrix"
   ]
  },
  {
   "cell_type": "markdown",
   "metadata": {},
   "source": [
    "Conversely, we can turn a `Circuit` object into its corresponding `Clifford` object and query its unique id. Be reminded that all circuits in this package are Clifford circuits."
   ]
  },
  {
   "cell_type": "code",
   "execution_count": 2,
   "metadata": {},
   "outputs": [
    {
     "name": "stdout",
     "output_type": "stream",
     "text": [
      "Clifford id: 1\n"
     ]
    }
   ],
   "source": [
    "circuit = htlg.Circuit(2)\n",
    "circuit.h(0)\n",
    "\n",
    "clifford = circuit.to_clifford()\n",
    "print(f\"Clifford id: {clifford.id}\")"
   ]
  },
  {
   "cell_type": "markdown",
   "metadata": {},
   "source": [
    "For completeness we want to note that the Pauli part can also be identified by an integer."
   ]
  },
  {
   "cell_type": "code",
   "execution_count": 3,
   "metadata": {},
   "outputs": [
    {
     "name": "stdout",
     "output_type": "stream",
     "text": [
      "Pauli id: 2\n"
     ]
    }
   ],
   "source": [
    "clifford = htlg.Clifford(id=23, pauli_id=2, num_qubits=4)\n",
    "print(f\"Pauli id: {clifford.pauli_id}\")"
   ]
  },
  {
   "cell_type": "markdown",
   "metadata": {},
   "source": [
    "### Tailor multiple gates using the integer representation\n",
    "\n",
    "In [tutorial.ipynb](./tutorial.ipynb) we learned how to use `tailor_logical_gate` to tailor a logical circuit for a stabilizer code. \n",
    "\n",
    "\n",
    "Instead of calling this function multiple times for different logical gates, we can use `tailor_multiple_logical_gates`. This function takes a list of Clifford ids as described above. \n",
    "Plus, we avoid the overhead of creating a distinct _Gurobi_ model for each gate. "
   ]
  },
  {
   "cell_type": "code",
   "execution_count": 4,
   "metadata": {},
   "outputs": [],
   "source": [
    "connectivity = htlg.Connectivity(\"circular\", num_qubits=4)\n",
    "stab_code = htlg.StabilizerCode(\"4_2_2\")\n",
    "\n",
    "results = htlg.tailor_multiple_logical_gates(\n",
    "    stab_code, \n",
    "    connectivity, \n",
    "    range(2), # e.g., range(Clifford.group_size_mod_pauli(2))\n",
    "    num_cz_layers=2\n",
    ")"
   ]
  },
  {
   "cell_type": "markdown",
   "metadata": {},
   "source": [
    "The function returns a dictionary containing all tailored gates and meta information."
   ]
  },
  {
   "cell_type": "code",
   "execution_count": 5,
   "metadata": {},
   "outputs": [
    {
     "name": "stdout",
     "output_type": "stream",
     "text": [
      "['Connectivity', 'Code', 'Number CZ layers', 'Time limit', 'Started', 'Ended']\n",
      "[0, 1]\n"
     ]
    }
   ],
   "source": [
    "print(list(results[\"Meta\"].keys()))\n",
    "print(list(results[\"Gates\"].keys()))"
   ]
  },
  {
   "cell_type": "markdown",
   "metadata": {},
   "source": [
    "For example, we can query the used connectivity and stabilizer code."
   ]
  },
  {
   "cell_type": "code",
   "execution_count": 6,
   "metadata": {},
   "outputs": [
    {
     "name": "stdout",
     "output_type": "stream",
     "text": [
      "Connectivity matrix:\n",
      " [[0 1 0 1]\n",
      " [1 0 1 0]\n",
      " [0 1 0 1]\n",
      " [1 0 1 0]]\n",
      "\n",
      "Code parameters:\n",
      "[[n,k,d]] = (4, 2, 2)\n"
     ]
    }
   ],
   "source": [
    "connectivity = results[\"Meta\"][\"Connectivity\"]\n",
    "stab_code = results[\"Meta\"][\"Code\"]\n",
    "\n",
    "print(\"Connectivity matrix:\\n\", connectivity.matrix)\n",
    "print()\n",
    "print(\"Code parameters:\\n[[n,k,d]] =\",stab_code.nkd)"
   ]
  },
  {
   "cell_type": "markdown",
   "metadata": {},
   "source": [
    "On the other hand, we can query the circuits from the results dictionary by identifying different gates by the integer that represents the logical Clifford action."
   ]
  },
  {
   "cell_type": "code",
   "execution_count": 10,
   "metadata": {},
   "outputs": [
    {
     "name": "stdout",
     "output_type": "stream",
     "text": [
      "Circuit : 'X 0\\nX 1\\nZ 2\\nC_XYZ 3\\nCZ 1 2\\nCZ 2 3\\nC_XYZ 2\\nCZ 1 2\\nCZ 2 3\\nS 2\\nC_ZYX 3\\n'\n",
      "Status : 'Optimal'\n",
      "Runtime : '13.533999919891357'\n"
     ]
    }
   ],
   "source": [
    "for key, val in results[\"Gates\"][1].items():\n",
    "    print(key, \":\", repr(val.__str__()))"
   ]
  },
  {
   "cell_type": "markdown",
   "metadata": {},
   "source": [
    "The runtime is given in seconds and the status message is the same as for the function `tailor_logical_gate`."
   ]
  },
  {
   "cell_type": "markdown",
   "metadata": {},
   "source": [
    "We can save the dictionary to a .json-file automatically by specifying the `output_file` argument of the function `tailor_multiple_logical_gates`. Alternatively, we can use the functions `save_results_dictionary` to manually save the results to a .json-file."
   ]
  },
  {
   "cell_type": "code",
   "execution_count": 11,
   "metadata": {},
   "outputs": [],
   "source": [
    "filepath = \"tutorial_results.json\"\n",
    "htlg.save_results_dictionary(results, filepath)"
   ]
  },
  {
   "cell_type": "markdown",
   "metadata": {},
   "source": [
    "We can load the results dictionary by using the function `load_results_dictionary`."
   ]
  },
  {
   "cell_type": "code",
   "execution_count": 12,
   "metadata": {},
   "outputs": [],
   "source": [
    "results_loaded = htlg.load_results_dictionary(filepath)"
   ]
  }
 ],
 "metadata": {
  "kernelspec": {
   "display_name": "Python 3",
   "language": "python",
   "name": "python3"
  },
  "language_info": {
   "codemirror_mode": {
    "name": "ipython",
    "version": 3
   },
   "file_extension": ".py",
   "mimetype": "text/x-python",
   "name": "python",
   "nbconvert_exporter": "python",
   "pygments_lexer": "ipython3",
   "version": "3.10.5"
  }
 },
 "nbformat": 4,
 "nbformat_minor": 2
}
