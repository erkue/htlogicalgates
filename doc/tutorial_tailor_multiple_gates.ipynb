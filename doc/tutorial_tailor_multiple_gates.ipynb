{
 "cells": [
  {
   "cell_type": "markdown",
   "metadata": {},
   "source": [
    "# Tailor multiple gates using the integer representation\n",
    "\n",
    "In  [tutorial.ipynb](./tutorial.ipynb) we learned how to tailor a logical circuit for a stabilizer code. We did this by passing `Connectivity`, `StabilizerCode`, and `Circuit` objects to the `tailor_logical_gate` function. If we want to create circuit implementations for many different logical gates, we may call this function multiple times. If we are looking for a few specific gate implementations, this works fine. On the other hand, one might want to create a large amount of logical gates, say 720 in total; the number of two-qubit Clifford gates modulo Paulis. For this, we can use the function `tailor_multiple_logical_gates`. This function avoids the additional overhead of creating a distinct _Gurobi_ model for all gates, and, more importantly, we can pass a list of integers identifying specific Clifford gates."
   ]
  },
  {
   "cell_type": "code",
   "execution_count": 1,
   "metadata": {},
   "outputs": [],
   "source": [
    "import htlogicalgates as htlg"
   ]
  },
  {
   "cell_type": "markdown",
   "metadata": {},
   "source": [
    "The workflow is similiar to that of `tailor_logical_gate`. The only difference is that, instead of a `Circuit` object, we pass a list of integers."
   ]
  },
  {
   "cell_type": "code",
   "execution_count": 2,
   "metadata": {},
   "outputs": [],
   "source": [
    "conn = htlg.Connectivity(\"circular\", num_qubits=4)\n",
    "qecc = htlg.StabilizerCode(\"4_2_2\")\n",
    "log_gates = [0,1,121]\n",
    "res = htlg.tailor_multiple_logical_gates(qecc, conn, log_gates, 2)"
   ]
  },
  {
   "cell_type": "markdown",
   "metadata": {},
   "source": [
    "## Clifford gates represented by integers\n",
    "\n",
    "For a given number of qubits, every Clifford is identfied by an integer. This identification is unique up to Pauli operators and is based on the work _J. Math. Phys. 55, 122202 (2014)_ by Koenig _et. al._ (also available under [arXiv:1406.2170](https://arxiv.org/abs/1406.2170)).\n",
    "\n",
    "We can work with this representation by using the `Clifford` class. For example, we can turn a `Circuit` object into its corresponding `Clifford` object. Note that all circuits in this package are Clifford circuits."
   ]
  },
  {
   "cell_type": "code",
   "execution_count": 3,
   "metadata": {},
   "outputs": [
    {
     "name": "stdout",
     "output_type": "stream",
     "text": [
      "Clifford integer of cliff0: '0'\n",
      "Clifford integer of cliff1: '1'\n",
      "Clifford integer of cliff2: '121'\n"
     ]
    }
   ],
   "source": [
    "circ0 = htlg.Circuit(\"I 1\", 2)\n",
    "circ1 = htlg.Circuit(\"H 0\", 2)\n",
    "circ2 = htlg.Circuit(\"H 0\\nH 1\", 2)\n",
    "cliff0 = circ0.to_clifford()\n",
    "cliff1 = circ1.to_clifford()\n",
    "cliff2 = circ2.to_clifford()\n",
    "print(f\"Clifford integer of cliff0: '{cliff0.clifford_int}'\")\n",
    "print(f\"Clifford integer of cliff1: '{cliff1.clifford_int}'\")\n",
    "print(f\"Clifford integer of cliff2: '{cliff2.clifford_int}'\")"
   ]
  },
  {
   "cell_type": "markdown",
   "metadata": {},
   "source": [
    "Here, we used the property `clifford_int` to obtain the integer of the Clifford operator modulo Paulis. For completeness, the Pauli part is also identified by an integer."
   ]
  },
  {
   "cell_type": "code",
   "execution_count": 4,
   "metadata": {},
   "outputs": [
    {
     "name": "stdout",
     "output_type": "stream",
     "text": [
      "Clifford integer of cliff3: '121'\n",
      "Pauli integer of cliff3: '4'\n",
      "Pauli integer of cliff2: '0'\n"
     ]
    }
   ],
   "source": [
    "cliff3 = htlg.Circuit(\"H 0\\nH 1\\nX 1\").to_clifford()\n",
    "print(f\"Clifford integer of cliff3: '{cliff3.clifford_int}'\")\n",
    "print(f\"Pauli integer of cliff3: '{cliff3.pauli_int}'\")\n",
    "print(f\"Pauli integer of cliff2: '{cliff2.pauli_int}'\")"
   ]
  },
  {
   "cell_type": "markdown",
   "metadata": {},
   "source": [
    "As shown above, the Clifford integers of both Clifford gates are the same but their Pauli integers differ."
   ]
  },
  {
   "cell_type": "markdown",
   "metadata": {},
   "source": [
    "## Using the function `tailor_multiple_gates`"
   ]
  },
  {
   "cell_type": "markdown",
   "metadata": {},
   "source": [
    "As previously shown, we can use the function `tailor_multiple_gates` in the following manner."
   ]
  },
  {
   "cell_type": "code",
   "execution_count": 5,
   "metadata": {},
   "outputs": [],
   "source": [
    "conn = htlg.Connectivity(\"circular\", num_qubits=4)\n",
    "qecc = htlg.StabilizerCode(\"4_2_2\")\n",
    "log_gates = [0,1,121]\n",
    "res = htlg.tailor_multiple_logical_gates(qecc, conn, [0,1,121], 2)"
   ]
  },
  {
   "cell_type": "markdown",
   "metadata": {},
   "source": [
    "The function returns a dictionary containing all tailored gates and meta information."
   ]
  },
  {
   "cell_type": "code",
   "execution_count": 6,
   "metadata": {},
   "outputs": [
    {
     "name": "stdout",
     "output_type": "stream",
     "text": [
      "['Connectivity', 'Code', 'n', 'k', 'Number CZ layers', 'Time limit', 'Started', 'Ended']\n",
      "[0, 1, 121]\n"
     ]
    }
   ],
   "source": [
    "print(list(res[\"Meta\"].keys()))\n",
    "print(list(res[\"Gates\"].keys()))"
   ]
  },
  {
   "cell_type": "markdown",
   "metadata": {},
   "source": [
    "For example, we can query the used connectivity and stabilizer code by using `res[\"Meta\"][\"Connectivity\"]` and `res[\"Meta\"][\"Code\"]`, respectivly. After turing them into `np.array` by using the `eval` function, we can pass them as arguments to the constructor of the respectivly classes."
   ]
  },
  {
   "cell_type": "code",
   "execution_count": 10,
   "metadata": {},
   "outputs": [
    {
     "name": "stdout",
     "output_type": "stream",
     "text": [
      "array([[0, 1, 0, 1],\n",
      "       [1, 0, 1, 0],\n",
      "       [0, 1, 0, 1],\n",
      "       [1, 0, 1, 0]], dtype=int32)\n",
      "array([[1, 1, 0, 0, 1, 0],\n",
      "       [1, 0, 0, 0, 1, 0],\n",
      "       [0, 1, 0, 0, 1, 0],\n",
      "       [0, 0, 0, 0, 1, 0],\n",
      "       [0, 0, 1, 1, 0, 1],\n",
      "       [0, 0, 0, 1, 0, 1],\n",
      "       [0, 0, 1, 0, 0, 1],\n",
      "       [0, 0, 0, 0, 0, 1]], dtype=int32)\n"
     ]
    }
   ],
   "source": [
    "from numpy import array, int32\n",
    "\n",
    "print(res[\"Meta\"][\"Connectivity\"])\n",
    "print(res[\"Meta\"][\"Code\"])\n",
    "\n",
    "conn = htlg.Connectivity(eval(res[\"Meta\"][\"Connectivity\"]))\n",
    "qecc = htlg.StabilizerCode(eval(res[\"Meta\"][\"Code\"]))"
   ]
  },
  {
   "cell_type": "markdown",
   "metadata": {},
   "source": [
    "On the other hand, we can query the circuits from the result dictionary by identfiying different gates by the integer that represents the logical Clifford action."
   ]
  },
  {
   "cell_type": "code",
   "execution_count": 16,
   "metadata": {},
   "outputs": [
    {
     "data": {
      "text/plain": [
       "{'Circuit': 'Z 0\\nH 0\\nZ 1\\nX 1\\nC_XYZ 1\\nZ 2\\nX 2\\nC_XYZ 2\\nH 3\\nCZ 0 3\\nCZ 1 2\\nZ 0\\nS 0\\nC_XYZ 1\\nC_XYZ 2\\nZ 3\\nS 3\\nCZ 1 2\\nH 1\\nH 2\\n',\n",
       " 'Status': 'Optimal',\n",
       " 'Runtime': 2.078000068664551}"
      ]
     },
     "execution_count": 16,
     "metadata": {},
     "output_type": "execute_result"
    }
   ],
   "source": [
    "res[\"Gates\"][121]"
   ]
  },
  {
   "cell_type": "markdown",
   "metadata": {},
   "source": [
    "We can safe the dictionary to a .json-file automatically by specifying the `output_file` argument of the function `tailor_many_logical_gates`. The runtime is given in seconds and the status message is the same as for the function `tailor_logical_gate`. Note that the circuit is given as a string such that the dictionary is JSON-serializable. Once again, we can turn the string into a `Circuit` object by passing it to the constructor."
   ]
  },
  {
   "cell_type": "code",
   "execution_count": 19,
   "metadata": {},
   "outputs": [],
   "source": [
    "circ = htlg.Circuit(res[\"Gates\"][121][\"Circuit\"])"
   ]
  },
  {
   "cell_type": "code",
   "execution_count": null,
   "metadata": {},
   "outputs": [],
   "source": []
  }
 ],
 "metadata": {
  "kernelspec": {
   "display_name": ".venv",
   "language": "python",
   "name": "python3"
  },
  "language_info": {
   "codemirror_mode": {
    "name": "ipython",
    "version": 3
   },
   "file_extension": ".py",
   "mimetype": "text/x-python",
   "name": "python",
   "nbconvert_exporter": "python",
   "pygments_lexer": "ipython3",
   "version": "3.12.8"
  }
 },
 "nbformat": 4,
 "nbformat_minor": 2
}
